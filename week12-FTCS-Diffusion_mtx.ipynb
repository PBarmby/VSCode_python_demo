{
 "cells": [
  {
   "cell_type": "markdown",
   "metadata": {},
   "source": [
    "#  FTCS Diffusion - matrix formulation"
   ]
  },
  {
   "cell_type": "code",
   "execution_count": null,
   "metadata": {},
   "outputs": [],
   "source": [
    "import numpy as np\n",
    "import matplotlib.pyplot as plt\n",
    "from matplotlib import cm\n",
    "from mpl_toolkits.mplot3d import Axes3D\n",
    "%matplotlib inline"
   ]
  },
  {
   "cell_type": "markdown",
   "metadata": {},
   "source": [
    "### Background \n",
    "\n",
    "We have a metal bar of thermal conductivity _&kappa;_. If _T (x, t)_ is the temperature of position _x_ in the bar at time _t_, the time evolution of the temperature is governed by the diffusion equation,\n",
    "\n",
    "_&part;T (x, t)/&part;t = &kappa; &part;<sup>2</sup>T (x, t)/&part;x<sup>2</sup>_\n",
    "\n",
    "From an initial condition at _t = 0_, the temperature must be integrated forward in time subject to boundary conditions at the ends. Here we'll use the FTCS (forward time, centred space) algorithm to solve this problem. An important feature of this, and all explicit methods, is that there is a maximum time step above which the method becomes unstable. The FTCS method for the diffusion equation is only stable if the time-step _&tau;_ satisfies\n",
    "\n",
    "_&tau; &le; t<sub>&sigma;</sub> &equiv; h<sup>2</sup>/(2 &kappa;)_\n",
    "\n",
    "where _h_ is the spatial grid size."
   ]
  },
  {
   "cell_type": "markdown",
   "metadata": {},
   "source": [
    "### Part 1\n",
    "\n",
    "Adaptation of the `dftcs` program from the textbook into a function that will integrate the 1D diffusion equation in the FTCS approximation forward in time."
   ]
  },
  {
   "cell_type": "code",
   "execution_count": null,
   "metadata": {},
   "outputs": [],
   "source": [
    "def diffusion_ftcs(nspace, ntime, tau_rel, args = [1.0, 1.0]):\n",
    "    \"\"\" \n",
    "        Compute the solution to the diffusion equation using the forward-time, centered-space algorithm\n",
    "        nspace: number of spatial grid points\n",
    "        ntime: number of time grid points\n",
    "        tau_rel: timestep in units of t_sigma=h**2/kappa\n",
    "        args: list containing L and kappa\n",
    "        \n",
    "        output: tt(nspace, ntime): 2D ndarray containing T(x,t)\n",
    "        \n",
    "    \"\"\"\n",
    "    if tau_rel < 1.0 :\n",
    "        print('Solution is expected to be stable')\n",
    "    else:\n",
    "        print('WARNING: Solution is expected to be unstable')\n",
    "        \n",
    "    L = args[0] # The system extends from x=-L/2 to x=L/2\n",
    "    kappa = args[1] # Diffusion coefficient\n",
    "    h = L/(nspace-1)   # Grid size\n",
    "    t_sigma = h**2/(2*kappa) # critical time step\n",
    "    tau = tau_rel * t_sigma\n",
    "    coeff = kappa*tau/h**2\n",
    "\n",
    "    #* Set initial and boundary conditions.\n",
    "    tt = np.zeros((nspace, ntime))    # Initialize temperature to zero at all points\n",
    "    tt[int(nspace/2),0] = 1./h             # Initial cond. is delta function in center\n",
    "    ## The boundary conditions are tt[0,:] = tt[N-1, :] = 0\n",
    "\n",
    "    for istep in range(1, ntime):  ## MAIN LOOP ##\n",
    "    \n",
    "        #* Compute new temperature using FTCS scheme.\n",
    "        tt[1:(nspace-1), istep] = ( tt[1:(nspace-1), istep-1] + \n",
    "          coeff*( tt[2:nspace, istep-1] + tt[0:(nspace-2), istep-1] - 2*tt[1:(nspace-1), istep-1] ) )\n",
    "        \n",
    "    return(tt)"
   ]
  },
  {
   "cell_type": "markdown",
   "metadata": {},
   "source": [
    "### Part 2\n",
    "\n",
    "Adaptation of the above function into a version that uses the matrix formulation."
   ]
  },
  {
   "cell_type": "code",
   "execution_count": null,
   "metadata": {},
   "outputs": [],
   "source": [
    "def diffusion_ftcs_mtx(nspace, ntime, tau_rel, args = [1.0, 1.0]):\n",
    "    \"\"\" \n",
    "        Compute the solution to the diffusion equation using the forward-time, centered-space algorithm in matrix formulation\n",
    "        nspace: number of spatial grid points\n",
    "        ntime: number of time grid points\n",
    "        tau_rel: timestep in units of t_sigma=h**2/kappa\n",
    "        args: list containing L and kappa\n",
    "        \n",
    "        output: tt(nspace, ntime): 2D ndarray containing T(x,t)\n",
    "        \n",
    "    \"\"\"\n",
    "    if tau_rel < 1.0 :\n",
    "        print('Solution is expected to be stable')\n",
    "    else:\n",
    "        print('WARNING: Solution is expected to be unstable')\n",
    "        \n",
    "    L = args[0] # The system extends from x=-L/2 to x=L/2\n",
    "    kappa = args[1] # Diffusion coefficient\n",
    "    h = L/(nspace-1)   # Grid size\n",
    "    t_sigma = h**2/(2*kappa) # critical time step\n",
    "    tau = tau_rel * t_sigma\n",
    "    coeff = kappa*tau/h**2\n",
    "\n",
    "    #* Set initial and boundary conditions.\n",
    "    tt = np.zeros((nspace, ntime))    # Initialize temperature to zero at all points\n",
    "    tt[int(nspace/2),0] = 1./h             # Initial cond. is delta function in center\n",
    "\n",
    "    # construct matrix D, NM4P p222\n",
    "    D = -2*np.identity(nspace)+np.diagflat(np.ones(nspace-1),1)+np.diagflat(np.ones(nspace-1),-1)\n",
    "    # boundary conditions\n",
    "    D[0] = 0 \n",
    "    D[-1] = 0\n",
    "    \n",
    "    A = np.identity(nspace) + coeff*D \n",
    "    \n",
    "    for istep in range(1, ntime):  ## MAIN LOOP: note it starts at 1, not zero: istep = 0 is the IC #\n",
    "        #* Compute new temperature using FTCS scheme.\n",
    "        tt[:, istep]  = A.dot(tt[:,istep-1])        \n",
    "    return(tt)"
   ]
  },
  {
   "cell_type": "code",
   "execution_count": null,
   "metadata": {},
   "outputs": [],
   "source": [
    "# compute h from h = L/(N-1)\n",
    "h=1/60.0\n",
    "tsig = h**2/(2) # compute t_sigma\n",
    "trel = 1e-4/tsig # compute trel\n",
    "tt = diffusion_ftcs(61, 300, trel)\n",
    "tt_mtx = diffusion_ftcs_mtx(61, 300, trel)\n",
    "xplot = np.arange(61)*h - 0.5\n",
    "tplot = np.arange(300)*(trel*tsig) "
   ]
  },
  {
   "cell_type": "code",
   "execution_count": null,
   "metadata": {},
   "outputs": [],
   "source": [
    "print((tt-tt_mtx).sum())"
   ]
  },
  {
   "cell_type": "code",
   "execution_count": null,
   "metadata": {},
   "outputs": [],
   "source": [
    "def doplot(xplot, tplot, tt, ptype):\n",
    "    fig = plt.figure()\n",
    "    if ptype == 'mesh':\n",
    "        ax = fig.gca(projection = '3d')\n",
    "        Tp, Xp = np.meshgrid(tplot, xplot)\n",
    "        ax.plot_surface(Tp, Xp, tt, rstride=2, cstride=2, cmap=cm.gray)\n",
    "        ax.set_xlabel('Time')\n",
    "        ax.set_ylabel('x')\n",
    "        ax.set_zlabel('T(x,t)')\n",
    "        ax.set_title('Diffusion of a delta spike')\n",
    "    elif ptype == 'contour':\n",
    "        levels = np.linspace(0., 5., num=21) \n",
    "        ct = plt.contour(tplot, xplot, tt, levels) \n",
    "        plt.clabel(ct, fmt='%1.2f') \n",
    "        plt.xlabel('Time')\n",
    "        plt.ylabel('x')\n",
    "        plt.title('Temperature contour plot')      \n",
    "    plt.show()\n",
    "    return"
   ]
  },
  {
   "cell_type": "code",
   "execution_count": null,
   "metadata": {},
   "outputs": [],
   "source": [
    "doplot(xplot,tplot, tt, 'mesh')\n",
    "doplot(xplot,tplot, tt_mtx, 'mesh')"
   ]
  },
  {
   "cell_type": "code",
   "execution_count": null,
   "metadata": {},
   "outputs": [],
   "source": [
    "doplot(xplot,tplot, tt, 'contour')\n",
    "doplot(xplot,tplot, tt_mtx, 'contour')"
   ]
  },
  {
   "cell_type": "code",
   "execution_count": null,
   "metadata": {},
   "outputs": [],
   "source": []
  }
 ],
 "metadata": {
  "kernelspec": {
   "display_name": "Python 3",
   "language": "python",
   "name": "python3"
  },
  "language_info": {
   "codemirror_mode": {
    "name": "ipython",
    "version": 3
   },
   "file_extension": ".py",
   "mimetype": "text/x-python",
   "name": "python",
   "nbconvert_exporter": "python",
   "pygments_lexer": "ipython3",
   "version": "3.8.5"
  }
 },
 "nbformat": 4,
 "nbformat_minor": 4
}
