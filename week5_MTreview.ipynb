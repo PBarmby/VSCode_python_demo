{
 "cells": [
  {
   "cell_type": "markdown",
   "metadata": {},
   "source": [
    "# Week 5 - midterm review\n",
    "\n",
    "The midterm will test whether you have a basic understanding of and ability to write Python programs, including\n",
    "* using loops and conditionals\n",
    "* using slicing and selection\n",
    "* using and defining functions\n",
    "\n",
    "It will also test your ability to write useful **scientific** code, including:\n",
    "* reading numerical data from a file\n",
    "* making plots\n",
    "* constructing and manipulating `numpy` arrays\n",
    "* finding and using appropriate `numpy` and `scipy` functions"
   ]
  },
  {
   "cell_type": "markdown",
   "metadata": {},
   "source": [
    "## Figuring out numpy: read the documentation! \n",
    "[NumPy: the absolute basics for beginners](https://numpy.org/doc/stable/user/absolute_beginners.html) is a good review"
   ]
  },
  {
   "cell_type": "code",
   "execution_count": null,
   "metadata": {},
   "outputs": [],
   "source": [
    "# exercise 1.2 - important differences between arrays and lists\n",
    "import numpy as np\n",
    "A = [[1,2],[3,4]] # A is a list with 2 items, each of which is also a list\n",
    "B = np.array(A)  # B is an array that we construct using the contents of A"
   ]
  },
  {
   "cell_type": "code",
   "execution_count": null,
   "metadata": {},
   "outputs": [],
   "source": [
    "# what do each of these return?\n",
    "# A + A, B + B, A + B\n",
    "# A-A, B-B\n",
    "# 2*A,  2*B, A*A, B*B\n",
    "# np.dot(B,B)\n",
    "# B**2\n",
    "# B/B"
   ]
  },
  {
   "cell_type": "code",
   "execution_count": null,
   "metadata": {},
   "outputs": [],
   "source": [
    "B**2"
   ]
  },
  {
   "cell_type": "code",
   "execution_count": null,
   "metadata": {},
   "outputs": [],
   "source": [
    "# Python is different from other languages in how objects are 'typed'. You can always figure out the type by:\n",
    "print(type(A),type(B),type(472.2),type(12))"
   ]
  },
  {
   "cell_type": "markdown",
   "metadata": {},
   "source": [
    "## Selecting elements of an array"
   ]
  },
  {
   "cell_type": "code",
   "execution_count": null,
   "metadata": {},
   "outputs": [],
   "source": [
    "# (why) are these different?\n",
    "# A[0][0]\n",
    "# B[0,0]\n",
    "# A[0]"
   ]
  },
  {
   "cell_type": "code",
   "execution_count": null,
   "metadata": {},
   "outputs": [],
   "source": [
    "# first row\n",
    "B[0]\n",
    "B[0,:]"
   ]
  },
  {
   "cell_type": "code",
   "execution_count": null,
   "metadata": {},
   "outputs": [],
   "source": [
    "# first column\n",
    "B[:,0]"
   ]
  },
  {
   "cell_type": "code",
   "execution_count": null,
   "metadata": {},
   "outputs": [],
   "source": [
    "C = np.array([B,B])"
   ]
  },
  {
   "cell_type": "code",
   "execution_count": null,
   "metadata": {},
   "outputs": [],
   "source": [
    "C.shape"
   ]
  },
  {
   "cell_type": "markdown",
   "metadata": {},
   "source": [
    "## creating commonly-used arrays"
   ]
  },
  {
   "cell_type": "code",
   "execution_count": null,
   "metadata": {},
   "outputs": [],
   "source": [
    "np.zeros((2,2))\n",
    "np.ones((4,4))\n",
    "y = np.linspace(0,20,11)\n",
    "np.arange(47,52)"
   ]
  },
  {
   "cell_type": "code",
   "execution_count": null,
   "metadata": {},
   "outputs": [],
   "source": [
    "# indexing and selecting can get complicated\n",
    "print(y)\n",
    "x =  y[:4]\n",
    "print(x)\n",
    "print(y[2:10:2])"
   ]
  },
  {
   "cell_type": "code",
   "execution_count": null,
   "metadata": {},
   "outputs": [],
   "source": [
    "# doing matrix kinds of things\n",
    "np.linalg.eig(B)\n",
    "np.dot(B[0],B[0])"
   ]
  },
  {
   "cell_type": "markdown",
   "metadata": {},
   "source": [
    "## Loops and conditionals"
   ]
  },
  {
   "cell_type": "code",
   "execution_count": null,
   "metadata": {},
   "outputs": [],
   "source": [
    "# note that the top of the range is not included\n",
    "for num in range(0,10):\n",
    "    if num % 2 == 0:\n",
    "        print(num)\n",
    "    else:\n",
    "        print('odd number!')"
   ]
  },
  {
   "cell_type": "code",
   "execution_count": null,
   "metadata": {},
   "outputs": [],
   "source": [
    "# but you do get all the items when you iterate over a list\n",
    "for item in A:\n",
    "    print(item)"
   ]
  },
  {
   "cell_type": "markdown",
   "metadata": {},
   "source": [
    "## Reading data from a file and plotting it"
   ]
  },
  {
   "cell_type": "code",
   "execution_count": null,
   "metadata": {},
   "outputs": [],
   "source": [
    "x, y = np.loadtxt('earthpop.dat', unpack=True)"
   ]
  },
  {
   "cell_type": "code",
   "execution_count": null,
   "metadata": {},
   "outputs": [],
   "source": [
    "import matplotlib.pyplot as plt\n",
    "%matplotlib inline"
   ]
  },
  {
   "cell_type": "code",
   "execution_count": null,
   "metadata": {},
   "outputs": [],
   "source": [
    "fig, ax = plt.subplots()\n",
    "plt.scatter(x,y, label= 'data')\n",
    "plt.plot(x,testmodel)\n",
    "ax.set_xlabel('time')\n",
    "ax.set_ylabel('pop')\n",
    "ax.set_ylim(0,y[-1])\n",
    "ax.legend()"
   ]
  },
  {
   "cell_type": "code",
   "execution_count": null,
   "metadata": {},
   "outputs": [],
   "source": [
    "testmodel = np.exp(x-1650) + y[0]"
   ]
  },
  {
   "cell_type": "code",
   "execution_count": null,
   "metadata": {},
   "outputs": [],
   "source": [
    "# numpy functions which take an array\n",
    "print(np.mean(y), np.max(y))"
   ]
  },
  {
   "cell_type": "code",
   "execution_count": null,
   "metadata": {},
   "outputs": [],
   "source": [
    "# numpy methods of an array\n",
    "print(y.mean(), y.max())"
   ]
  },
  {
   "cell_type": "markdown",
   "metadata": {},
   "source": [
    "## Finding the right scipy function: look at the [documentation](https://docs.scipy.org/doc/scipy/reference/index.html)"
   ]
  },
  {
   "cell_type": "code",
   "execution_count": null,
   "metadata": {},
   "outputs": [],
   "source": [
    "# scipy functions that operate on arrays: interpolating\n",
    "from scipy.interpolate import interp1d\n",
    "linear_interp = interp1d(x, y)\n",
    "cubic_interp = interp1d(x, y, kind = 'cubic')"
   ]
  },
  {
   "cell_type": "code",
   "execution_count": null,
   "metadata": {},
   "outputs": [],
   "source": [
    "fig, ax = plt.subplots()\n",
    "plt.scatter(x,y, label= 'data')\n",
    "xnew = np.linspace(x[0],x[-1],200)\n",
    "plt.plot(xnew, linear_interp(xnew), label = 'linear')\n",
    "plt.plot(xnew, cubic_interp(xnew), label = 'cubic')\n",
    "ax.set_xlabel('time')\n",
    "ax.set_ylabel('pop')\n",
    "ax.set_ylim(0,y[-1])\n",
    "ax.legend()"
   ]
  },
  {
   "cell_type": "code",
   "execution_count": null,
   "metadata": {},
   "outputs": [],
   "source": [
    "# scipy functions that operate on functions: finding the roots of a function\n",
    "import scipy.optimize as spo\n",
    "def f(x):\n",
    "    return x**2 + 10*np.sin(x)"
   ]
  },
  {
   "cell_type": "code",
   "execution_count": null,
   "metadata": {},
   "outputs": [],
   "source": [
    "fn_root = spo.root(f, x0=1) "
   ]
  },
  {
   "cell_type": "code",
   "execution_count": null,
   "metadata": {},
   "outputs": [],
   "source": [
    "print(fn_root)"
   ]
  },
  {
   "cell_type": "code",
   "execution_count": null,
   "metadata": {},
   "outputs": [],
   "source": []
  }
 ],
 "metadata": {
  "kernelspec": {
   "display_name": "Python 3",
   "language": "python",
   "name": "python3"
  },
  "language_info": {
   "codemirror_mode": {
    "name": "ipython",
    "version": 3
   },
   "file_extension": ".py",
   "mimetype": "text/x-python",
   "name": "python",
   "nbconvert_exporter": "python",
   "pygments_lexer": "ipython3",
   "version": "3.6.12"
  }
 },
 "nbformat": 4,
 "nbformat_minor": 4
}
