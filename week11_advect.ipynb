{
 "cells": [
  {
   "cell_type": "code",
   "execution_count": null,
   "metadata": {},
   "outputs": [],
   "source": [
    "import numpy as np\n",
    "import matplotlib.pyplot as plt\n",
    "%matplotlib inline"
   ]
  },
  {
   "cell_type": "code",
   "execution_count": null,
   "metadata": {},
   "outputs": [],
   "source": [
    "N = 51\n",
    "L = 1.      # System size\n",
    "h = L/(N-1)     # Grid spacing for Dirichlet\n",
    "c = 1.      # Wave speed\n",
    "omega = 10*np.pi\n",
    "print('Time for wave to move one grid spacing is ', h/c) "
   ]
  },
  {
   "cell_type": "code",
   "execution_count": null,
   "metadata": {},
   "outputs": [],
   "source": [
    "tau = 0.015 # set tau\n",
    "coeff = -c*tau/(2.*h)    # Coefficient used by all schemes\n",
    "coefflw = 2*coeff**2     # Coefficient used by L-W scheme\n",
    "print('Wave crosses system in ', L/(c*tau), ' steps') "
   ]
  },
  {
   "cell_type": "code",
   "execution_count": null,
   "metadata": {},
   "outputs": [],
   "source": [
    "nStep = 50 # set number of time steps"
   ]
  },
  {
   "cell_type": "code",
   "execution_count": null,
   "metadata": {},
   "outputs": [],
   "source": [
    "# Dirichlet boundary conditions\n",
    "a = np.zeros(N)"
   ]
  },
  {
   "cell_type": "code",
   "execution_count": null,
   "metadata": {},
   "outputs": [],
   "source": [
    "#* Initialize plotting variables.\n",
    "iplot = 1           # Plot counter\n",
    "nplots = 20         # Desired number of plots\n",
    "aplot = np.empty((N,nplots))\n",
    "tplot = np.empty(nplots)\n",
    "aplot[:,0] = np.copy(a)     # Record the initial state\n",
    "tplot[0] = 0                # Record the initial time (t=0)\n",
    "plotStep = nStep/nplots +1  # Number of steps between plots"
   ]
  },
  {
   "cell_type": "code",
   "execution_count": null,
   "metadata": {},
   "outputs": [],
   "source": [
    "method = 1\n",
    "#* Loop over desired number of steps.\n",
    "for iStep in range(nStep):  ## MAIN LOOP ##\n",
    "\n",
    "    # set boundary conditions\n",
    "    a[0] = np.sin(omega*tau*iStep)\n",
    "    a[-1] = 0\n",
    "    #* Compute new values of wave amplitude using FTCS, \n",
    "    #%  Lax or Lax-Wendroff method.\n",
    "    if method == 1 :      ### FTCS method ###\n",
    "        a[1:-1] = a[1:-1] + coeff*( a[2:] - a[:-2] )  \n",
    "    elif  method == 2 :   ### Lax method ###\n",
    "        a[1:-1] = .5*( a[2:] + a[:-2] ) + coeff*( a[2:] - a[:-2] )   \n",
    "    elif method == 3:     ### Lax-Wendroff method ###\n",
    "        a[1:-1] = ( a[1:-1] + coeff*( a[2:] - a[-2] ) + \n",
    "                coefflw*( a[2:] + a[:-2] -2*a[1:-1] ) )\n",
    "    else:                 ### upwind method\n",
    "        a[1:-1] = a[1:-1] + 2*coeff*( a[1:-1] - a[:-2] )\n",
    "\n",
    "    #* Periodically record a(t) for plotting.\n",
    "    if (iStep+1) % plotStep < 1 :        # Every plot_iter steps record \n",
    "        aplot[:,iplot] = np.copy(a)      # Record a(i) for ploting\n",
    "        tplot[iplot] = tau*(iStep+1)\n",
    "        iplot += 1\n",
    "#        print(iStep, ' out of ', nStep, ' steps completed')\n",
    "\n",
    "#* Plot the initial and final states.\n",
    "plt.plot(x,aplot[:,0],'-',x,a,'--')\n",
    "plt.legend(['Initial  ','Final'])\n",
    "plt.xlabel('x')  \n",
    "plt.ylabel('a(x,t)')\n",
    "plt.show()"
   ]
  },
  {
   "cell_type": "code",
   "execution_count": null,
   "metadata": {},
   "outputs": [],
   "source": []
  }
 ],
 "metadata": {
  "kernelspec": {
   "display_name": "Python 3",
   "language": "python",
   "name": "python3"
  },
  "language_info": {
   "codemirror_mode": {
    "name": "ipython",
    "version": 3
   },
   "file_extension": ".py",
   "mimetype": "text/x-python",
   "name": "python",
   "nbconvert_exporter": "python",
   "pygments_lexer": "ipython3",
   "version": "3.8.5"
  }
 },
 "nbformat": 4,
 "nbformat_minor": 4
}
