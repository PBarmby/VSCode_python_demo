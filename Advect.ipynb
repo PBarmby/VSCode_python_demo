{
 "cells": [
  {
   "cell_type": "code",
   "execution_count": null,
   "metadata": {
    "collapsed": false,
    "jupyter": {
     "outputs_hidden": false
    }
   },
   "outputs": [],
   "source": [
    "# advect - Program to solve the advection equation \n",
    "# using the various hyperbolic PDE schemes\n",
    "# updated for Python 3 - PB\n",
    "\n",
    "# Set up configuration options and special features\n",
    "import numpy as np\n",
    "import matplotlib.pyplot as plt\n",
    "%matplotlib inline"
   ]
  },
  {
   "cell_type": "code",
   "execution_count": null,
   "metadata": {
    "collapsed": false,
    "jupyter": {
     "outputs_hidden": false
    }
   },
   "outputs": [],
   "source": [
    "#* Select numerical parameters (time step, grid spacing, etc.).\n",
    "method = int(input('Choose a numerical method, 1) FTCS; 2) Lax; 3) Lax-Wendroff :'))\n",
    "N = int(input('Enter number of grid points: '))\n",
    "L = 1.      # System size\n",
    "h = L/N     # Grid spacing\n",
    "c = 1.      # Wave speed\n",
    "print('Time for wave to move one grid spacing is ', h/c)\n",
    "tau = float(input('Enter time step: '))\n",
    "coeff = -c*tau/(2.*h)    # Coefficient used by all schemes\n",
    "coefflw = 2*coeff**2     # Coefficient used by L-W scheme\n",
    "print('Wave circles system in ', L/(c*tau), ' steps') \n",
    "nStep = int(input('Enter number of steps: '))"
   ]
  },
  {
   "cell_type": "code",
   "execution_count": null,
   "metadata": {
    "collapsed": false,
    "jupyter": {
     "outputs_hidden": false
    }
   },
   "outputs": [],
   "source": [
    "#* Set initial and boundary conditions.\n",
    "sigma = 0.1                  # Width of the Gaussian pulse\n",
    "k_wave = np.pi/sigma         # Wave number of the cosine\n",
    "x = np.arange(N)*h - L/2.    # Coordinates of grid points\n",
    "# Initial condition is a Gaussian-cosine pulse\n",
    "a = np.empty(N)\n",
    "for i in range(N) :\n",
    "    a[i] = np.cos(k_wave*x[i]) * np.exp(-x[i]**2/(2*sigma**2)) \n",
    "# Use periodic boundary conditions\n",
    "ip = np.arange(N) + 1  \n",
    "ip[N-1] = 0          # ip = i+1 with periodic b.c.\n",
    "im = np.arange(N) - 1  \n",
    "im[0] = N-1          # im = i-1 with periodic b.c.\n",
    "\n",
    "#* Initialize plotting variables.\n",
    "iplot = 1           # Plot counter\n",
    "nplots = 50         # Desired number of plots\n",
    "aplot = np.empty((N,nplots))\n",
    "tplot = np.empty(nplots)\n",
    "aplot[:,0] = np.copy(a)     # Record the initial state\n",
    "tplot[0] = 0                # Record the initial time (t=0)\n",
    "plotStep = nStep/nplots +1  # Number of steps between plots"
   ]
  },
  {
   "cell_type": "code",
   "execution_count": null,
   "metadata": {
    "collapsed": false,
    "jupyter": {
     "outputs_hidden": false
    }
   },
   "outputs": [],
   "source": [
    "#* Loop over desired number of steps.\n",
    "for iStep in range(nStep):  ## MAIN LOOP ##\n",
    "\n",
    "    #* Compute new values of wave amplitude using FTCS, \n",
    "    #%  Lax or Lax-Wendroff method.\n",
    "    if method == 1 :      ### FTCS method ###\n",
    "        a[:] = a[:] + coeff*( a[ip] - a[im] )  \n",
    "    elif  method == 2 :   ### Lax method ###\n",
    "        a[:] = .5*( a[ip] + a[im] ) + coeff*( a[ip] - a[im] )   \n",
    "    else:                 ### Lax-Wendroff method ###\n",
    "        a[:] = ( a[:] + coeff*( a[ip] - a[im] ) + \n",
    "                coefflw*( a[ip] + a[im] -2*a[:] ) )\n",
    "\n",
    "    #* Periodically record a(t) for plotting.\n",
    "    if (iStep+1) % plotStep < 1 :        # Every plot_iter steps record \n",
    "        aplot[:,iplot] = np.copy(a)      # Record a(i) for ploting\n",
    "        tplot[iplot] = tau*(iStep+1)\n",
    "        iplot += 1\n",
    "#        print iStep, ' out of ', nStep, ' steps completed'"
   ]
  },
  {
   "cell_type": "code",
   "execution_count": null,
   "metadata": {
    "collapsed": false,
    "jupyter": {
     "outputs_hidden": false
    }
   },
   "outputs": [],
   "source": [
    "#* Plot the initial and final states.\n",
    "plt.plot(x,aplot[:,0],'-',x,a,'--');\n",
    "plt.legend(['Initial  ','Final'])\n",
    "plt.xlabel('x')  \n",
    "plt.ylabel('a(x,t)')\n",
    "plt.show()"
   ]
  },
  {
   "cell_type": "code",
   "execution_count": null,
   "metadata": {
    "collapsed": false,
    "jupyter": {
     "outputs_hidden": false
    }
   },
   "outputs": [],
   "source": [
    "#* Plot the wave amplitude versus position and time\n",
    "from matplotlib import cm\n",
    "from mpl_toolkits.mplot3d import Axes3D\n",
    "\n",
    "fig = plt.figure()\n",
    "ax = fig.gca(projection = '3d')\n",
    "Tp, Xp = np.meshgrid(tplot[0:iplot], x)\n",
    "ax.plot_surface(Tp, Xp, aplot[:,0:iplot], rstride=1, cstride=1, cmap=cm.gray)\n",
    "ax.view_init(elev=30., azim=190.)\n",
    "ax.set_ylabel('Position') \n",
    "ax.set_xlabel('Time')\n",
    "ax.set_zlabel('Amplitude')\n",
    "plt.show()"
   ]
  },
  {
   "cell_type": "code",
   "execution_count": null,
   "metadata": {},
   "outputs": [],
   "source": []
  }
 ],
 "metadata": {
  "anaconda-cloud": {},
  "kernelspec": {
   "display_name": "Python 3",
   "language": "python",
   "name": "python3"
  },
  "language_info": {
   "codemirror_mode": {
    "name": "ipython",
    "version": 3
   },
   "file_extension": ".py",
   "mimetype": "text/x-python",
   "name": "python",
   "nbconvert_exporter": "python",
   "pygments_lexer": "ipython3",
   "version": "3.8.5"
  }
 },
 "nbformat": 4,
 "nbformat_minor": 4
}
