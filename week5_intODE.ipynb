{
 "cells": [
  {
   "cell_type": "markdown",
   "metadata": {},
   "source": [
    "# Week 5- integration and ODEs with numpy and scipy\n",
    "\n",
    "Integration is something that we have to do all the time in scientific computing. There are generally two situations that we are faced with:\n",
    "* we have the value of the function only at certain values of its parameters, for example because it comes from measurements or is very time-consuming to evaluate\n",
    "* we are integrating a known function that we can evaluate for any value of its parameters that we want\n",
    "\n",
    "You've seen the first situation before in calculus classes, with concepts like the trapezoidal rule and Simpson's rule. You already saw `numpy.trapz` in Lab 2, \n",
    "so let's look at it in a bit more detail and at some of the other options.\n",
    "\n",
    "`help(numpy.trapz)` shows us how trapz works. It actually doesn't have many parameters, just integrates according to the trapezoidal rule and it's pretty simple to use."
   ]
  },
  {
   "cell_type": "markdown",
   "metadata": {},
   "source": [
    "## Integration"
   ]
  },
  {
   "cell_type": "code",
   "execution_count": null,
   "metadata": {},
   "outputs": [],
   "source": [
    "import numpy as np\n",
    "import scipy.integrate as scint\n",
    "import matplotlib.pyplot as plt"
   ]
  },
  {
   "cell_type": "code",
   "execution_count": null,
   "metadata": {},
   "outputs": [],
   "source": [
    "# not very accurate\n",
    "x = np.arange(0,10)\n",
    "y = x**2\n",
    "int_result = np.trapz(y,x)\n",
    "print(int_result, 10**3/3 )"
   ]
  },
  {
   "cell_type": "code",
   "execution_count": null,
   "metadata": {},
   "outputs": [],
   "source": [
    "# more steps helps\n",
    "x = np.linspace(0,10,100)\n",
    "y = x**2\n",
    "int_result = np.trapz(y,x)\n",
    "print(int_result, 10**3/3 )"
   ]
  },
  {
   "cell_type": "markdown",
   "metadata": {},
   "source": [
    "There are lots more options for integrating with scipy.integrate, type `help(scint)` to see the list. Let's see how `scipy.integrate.romb` works."
   ]
  },
  {
   "cell_type": "code",
   "execution_count": null,
   "metadata": {},
   "outputs": [],
   "source": [
    "int_result = scint.romb(y, x)\n",
    "print(int_result, 10**3/3 )"
   ]
  },
  {
   "cell_type": "code",
   "execution_count": null,
   "metadata": {},
   "outputs": [],
   "source": [
    "# more accurate than trapezoidal rule even with fewer sample points\n",
    "# note different calling structure\n",
    "x = np.linspace(0,10,65)\n",
    "y = x**2\n",
    "dx = x[1]-x[0]\n",
    "int_result = scint.romb(y, dx = dx)\n",
    "print(int_result, 10**3/3 )"
   ]
  },
  {
   "cell_type": "markdown",
   "metadata": {},
   "source": [
    "OK, so now let's try some of the `scipy.integrate` routines where instead of having only the value of the function, we can evaluate the function itself. Here we need to pass the function as an argument to the `scipy` routine. The tex talks about this on page 62-64. It's usually not complicated but you do have to read the documentation carefully to understand what the routine is expecting."
   ]
  },
  {
   "cell_type": "code",
   "execution_count": null,
   "metadata": {},
   "outputs": [],
   "source": [
    "help(scint.quad)"
   ]
  },
  {
   "cell_type": "code",
   "execution_count": null,
   "metadata": {},
   "outputs": [],
   "source": [
    "# let's define a function\n",
    "def myfunc(x):\n",
    "    return(x**2 + np.sin(x))"
   ]
  },
  {
   "cell_type": "code",
   "execution_count": null,
   "metadata": {},
   "outputs": [],
   "source": [
    "result = scint.quad(myfunc,1,4)"
   ]
  },
  {
   "cell_type": "code",
   "execution_count": null,
   "metadata": {},
   "outputs": [],
   "source": [
    "# the resulting definite integral\n",
    "result"
   ]
  },
  {
   "cell_type": "code",
   "execution_count": null,
   "metadata": {},
   "outputs": [],
   "source": [
    "# let's look at more detail - read the documentation for scint.quad to see what all this stuff is\n",
    "result = scint.quad(myfunc,1,4, full_output=1)\n",
    "print(result)"
   ]
  },
  {
   "cell_type": "code",
   "execution_count": null,
   "metadata": {},
   "outputs": [],
   "source": [
    "# what if we want our function to have parameters?\n",
    "def myfunc2(x, a=1):\n",
    "    return(x**2 + a*np.sin(x))"
   ]
  },
  {
   "cell_type": "code",
   "execution_count": null,
   "metadata": {},
   "outputs": [],
   "source": [
    "result = scint.quad(myfunc2,1,4)\n",
    "print(result)"
   ]
  },
  {
   "cell_type": "code",
   "execution_count": null,
   "metadata": {},
   "outputs": [],
   "source": [
    "result = scint.quad(myfunc2,1,4, args= (0,))\n",
    "print(result)"
   ]
  },
  {
   "cell_type": "markdown",
   "metadata": {},
   "source": [
    "`scint.quad` is the general-purpose integrator and there are variations for double and triple integrals as well as vector-valued functions. You can also use it to do indefinite integrals:"
   ]
  },
  {
   "cell_type": "code",
   "execution_count": null,
   "metadata": {},
   "outputs": [],
   "source": [
    "def myfunc3(x): \n",
    "    return(3*np.exp(-x))\n",
    "\n",
    "scint.quad(myfunc3, 0, np.inf)\n",
    "(1.0, 5.842605999138044e-11)"
   ]
  },
  {
   "cell_type": "code",
   "execution_count": null,
   "metadata": {},
   "outputs": [],
   "source": [
    "# but of course they have to converge \n",
    "def myfunc3(x): \n",
    "    return(3*np.exp(x))\n",
    "\n",
    "result = scint.quad(myfunc3, 0, np.inf)\n",
    "print(result)"
   ]
  },
  {
   "cell_type": "markdown",
   "metadata": {},
   "source": [
    "These routines return an estimate of the uncertainty in the reuslt and you want to look at that carefully. One of the nice things about `numpy` and `scipy` is that they are open-source, so you can look at the source code - which is linked from the documentation - and see exactly what it's doing. [Here](https://github.com/scipy/scipy/blob/v1.5.2/scipy/integrate/quadpack.py#L49-L442) it is for `scipy.quad`."
   ]
  },
  {
   "cell_type": "markdown",
   "metadata": {},
   "source": [
    "## Solving ODEs"
   ]
  },
  {
   "cell_type": "markdown",
   "metadata": {},
   "source": [
    "There are also routines in `scipy.integrate` that solve odinary differential equations. Something important to note is that the SciPy lectures document dsecribes an older version of the code where `odeint` was the major routine. The new version is `solve_ivp`, so let's see how that works with the examples in SciPy Lectures."
   ]
  },
  {
   "cell_type": "code",
   "execution_count": null,
   "metadata": {},
   "outputs": [],
   "source": [
    "help(scint.solve_ivp)"
   ]
  },
  {
   "cell_type": "markdown",
   "metadata": {},
   "source": [
    "We want to solve the ODE dy/dt = -2 y between t = 0 and 4, with the initial condition y(t=0) = 1. First we define the function giving dy/dt\""
   ]
  },
  {
   "cell_type": "code",
   "execution_count": null,
   "metadata": {},
   "outputs": [],
   "source": [
    "def dydt(t, y):\n",
    "    return(-2*y)"
   ]
  },
  {
   "cell_type": "code",
   "execution_count": null,
   "metadata": {},
   "outputs": [],
   "source": [
    "# now we call solve_ivp:\n",
    "result = scint.solve_ivp(dydt, (0,4), np.array([1.0]))\n",
    "print(result)"
   ]
  },
  {
   "cell_type": "code",
   "execution_count": null,
   "metadata": {},
   "outputs": [],
   "source": [
    "#%matplotlib inline\n",
    "fig, ax = plt.subplots()\n",
    "#ax.plot(result.t, result.y)\n",
    "ax.plot(result.t, result.y[0])"
   ]
  },
  {
   "cell_type": "markdown",
   "metadata": {},
   "source": [
    "The default behaviour gives us a curve that's not very smooth, since there aren't that many points. What if we do:"
   ]
  },
  {
   "cell_type": "code",
   "execution_count": null,
   "metadata": {},
   "outputs": [],
   "source": [
    "t_soln = np.linspace(0,4,100)\n",
    "result = scint.solve_ivp(dydt, (0,4), np.array([1.0]),t_eval= t_soln )\n",
    "print(result)"
   ]
  },
  {
   "cell_type": "code",
   "execution_count": null,
   "metadata": {},
   "outputs": [],
   "source": [
    "# that looks better\n",
    "fig, ax = plt.subplots()\n",
    "ax.plot(result.t, result.y[0])"
   ]
  },
  {
   "cell_type": "markdown",
   "metadata": {},
   "source": [
    "OK let's try a more complicated ODE: a damped spring-mass oscillator. The position of a mass attached to a spring obeys the 2nd order ODE $y'' + 2 \\varepsilon \\omega_0 y' + \\omega_0^2 y = 0$ with $\\omega_0^2 = k/m$ with $k$ the spring constant, $m$ the mass and $\\varepsilon = c/(2 m \\omega_0)$ with $c$ the damping coefficient."
   ]
  },
  {
   "cell_type": "code",
   "execution_count": null,
   "metadata": {},
   "outputs": [],
   "source": [
    "# define some variables and compute some constants\n",
    "mass = 0.5  # kg\n",
    "kspring = 4  # N/m\n",
    "cviscous = 0.4  # N s/m\n",
    "eps = cviscous / (2 * mass * np.sqrt(kspring/mass))\n",
    "omega = np.sqrt(kspring / mass)"
   ]
  },
  {
   "cell_type": "markdown",
   "metadata": {},
   "source": [
    "The tricky bit here is to consider our derivative to be the derivative of the **state vector** $[y, y']$. Then we write our derivative function so it returns the separate derivatives of these two things:\n",
    "$d/dt[y, y'] = [y', y''] = [y', - 2 \\varepsilon \\omega_0 y' - \\omega_0^2 y]$"
   ]
  },
  {
   "cell_type": "code",
   "execution_count": null,
   "metadata": {},
   "outputs": [],
   "source": [
    "# note that neither derivative is an explicit function of time \n",
    "# so the time parameter doesn't do anything here but has to be included since it's required by solve_ivp\n",
    "def deriv_ystate(time, ystate, eps, omega):\n",
    "    return(ystate[1], -2.0 * eps * omega * ystate[1] - omega **2 * ystate[0])"
   ]
  },
  {
   "cell_type": "code",
   "execution_count": null,
   "metadata": {},
   "outputs": [],
   "source": [
    "# note the way more function evaluations here (1046 compared to 62  in the previous example)\n",
    "time_soln = np.linspace(0, 10, 100)\n",
    "yinit = (1, 0)\n",
    "result = scint.solve_ivp(deriv_ystate, (0,100), yinit, t_eval=time_soln, args = (eps, omega,) )"
   ]
  },
  {
   "cell_type": "code",
   "execution_count": null,
   "metadata": {},
   "outputs": [],
   "source": [
    "fig, ax = plt.subplots()\n",
    "ax.plot(result.t, result.y[0])"
   ]
  },
  {
   "cell_type": "code",
   "execution_count": null,
   "metadata": {},
   "outputs": [],
   "source": []
  }
 ],
 "metadata": {
  "kernelspec": {
   "display_name": "Python 3",
   "language": "python",
   "name": "python3"
  },
  "language_info": {
   "codemirror_mode": {
    "name": "ipython",
    "version": 3
   },
   "file_extension": ".py",
   "mimetype": "text/x-python",
   "name": "python",
   "nbconvert_exporter": "python",
   "pygments_lexer": "ipython3",
   "version": "3.6.12"
  }
 },
 "nbformat": 4,
 "nbformat_minor": 4
}
